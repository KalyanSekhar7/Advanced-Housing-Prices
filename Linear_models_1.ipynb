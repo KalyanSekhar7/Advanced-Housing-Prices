{
 "cells": [
  {
   "cell_type": "markdown",
   "id": "940b1b43",
   "metadata": {},
   "source": [
    "## Linear model testing"
   ]
  },
  {
   "cell_type": "code",
   "execution_count": 1,
   "id": "14e7b379",
   "metadata": {},
   "outputs": [],
   "source": [
    "# Now we will do what we had to do in the training of linear model \n"
   ]
  },
  {
   "cell_type": "code",
   "execution_count": 2,
   "id": "38738f90",
   "metadata": {},
   "outputs": [],
   "source": [
    "import numpy as np\n",
    "import pandas as pd\n",
    "import seaborn as sns \n",
    "import matplotlib.pyplot as plt"
   ]
  },
  {
   "cell_type": "code",
   "execution_count": 3,
   "id": "5f777b83",
   "metadata": {},
   "outputs": [],
   "source": [
    "X=pd.read_csv('selected_x_train.csv')\n",
    "y=pd.read_csv('y_train_final.csv')"
   ]
  },
  {
   "cell_type": "code",
   "execution_count": 4,
   "id": "854698a9",
   "metadata": {},
   "outputs": [
    {
     "data": {
      "text/html": [
       "<div>\n",
       "<style scoped>\n",
       "    .dataframe tbody tr th:only-of-type {\n",
       "        vertical-align: middle;\n",
       "    }\n",
       "\n",
       "    .dataframe tbody tr th {\n",
       "        vertical-align: top;\n",
       "    }\n",
       "\n",
       "    .dataframe thead th {\n",
       "        text-align: right;\n",
       "    }\n",
       "</style>\n",
       "<table border=\"1\" class=\"dataframe\">\n",
       "  <thead>\n",
       "    <tr style=\"text-align: right;\">\n",
       "      <th></th>\n",
       "      <th>SalePrice</th>\n",
       "    </tr>\n",
       "  </thead>\n",
       "  <tbody>\n",
       "    <tr>\n",
       "      <th>0</th>\n",
       "      <td>12.247694</td>\n",
       "    </tr>\n",
       "    <tr>\n",
       "      <th>1</th>\n",
       "      <td>12.109011</td>\n",
       "    </tr>\n",
       "    <tr>\n",
       "      <th>2</th>\n",
       "      <td>12.317167</td>\n",
       "    </tr>\n",
       "    <tr>\n",
       "      <th>3</th>\n",
       "      <td>11.849398</td>\n",
       "    </tr>\n",
       "    <tr>\n",
       "      <th>4</th>\n",
       "      <td>12.429216</td>\n",
       "    </tr>\n",
       "  </tbody>\n",
       "</table>\n",
       "</div>"
      ],
      "text/plain": [
       "   SalePrice\n",
       "0  12.247694\n",
       "1  12.109011\n",
       "2  12.317167\n",
       "3  11.849398\n",
       "4  12.429216"
      ]
     },
     "execution_count": 4,
     "metadata": {},
     "output_type": "execute_result"
    }
   ],
   "source": [
    "y=y.iloc[:,1:]\n",
    "y.head()"
   ]
  },
  {
   "cell_type": "code",
   "execution_count": 5,
   "id": "2a52b7ca",
   "metadata": {},
   "outputs": [],
   "source": [
    "def rmse_cv(model):\n",
    "    rmse = np.sqrt(-cross_val_score(model, X, y, scoring=\"neg_mean_squared_error\", cv=5)).mean()\n",
    "    return rmse\n",
    "def evaluation(y_hat, predictions):\n",
    "    mae = mean_absolute_error(y_hat, predictions)\n",
    "    mse = mean_squared_error(y_hat, predictions)\n",
    "    rmse = np.sqrt(mean_squared_error(y_hat, predictions))\n",
    "    r_squared = r2_score(y_hat, predictions)\n",
    "    return mae, mse, rmse, r_squared"
   ]
  },
  {
   "cell_type": "code",
   "execution_count": 6,
   "id": "431cce71",
   "metadata": {},
   "outputs": [],
   "source": [
    "from sklearn.model_selection import train_test_split\n",
    "\n",
    "x_train,x_test,y_train,y_test=train_test_split(X,y,random_state=0,test_size=0.33)"
   ]
  },
  {
   "cell_type": "code",
   "execution_count": 7,
   "id": "a1b75653",
   "metadata": {},
   "outputs": [
    {
     "data": {
      "text/plain": [
       "{'model': 'ridge',\n",
       " 'RMSE': 0.13368507311820418,\n",
       " 'R2': 0.8787706753826393,\n",
       " 'true_error': 0.09168355502664106}"
      ]
     },
     "execution_count": 7,
     "metadata": {},
     "output_type": "execute_result"
    }
   ],
   "source": [
    "from sklearn.linear_model import Ridge\n",
    "from sklearn.model_selection import train_test_split, cross_val_score\n",
    "from sklearn.metrics import r2_score, mean_absolute_error, mean_squared_error\n",
    "\n",
    "ridge=Ridge()\n",
    "ridge.fit(x_train,y_train)\n",
    "\n",
    "y_predicted=ridge.predict(x_test)\n",
    "mae, mse, rmse, r_squared=evaluation(y_predicted,y_test)\n",
    "ridge_score={'model':'ridge',\n",
    "             'RMSE':rmse,\n",
    "             'R2':r_squared,\n",
    "             'true_error':mae}\n",
    "ridge_score"
   ]
  },
  {
   "cell_type": "markdown",
   "id": "8296a129",
   "metadata": {},
   "source": [
    "Lets try to improve the ridge score "
   ]
  },
  {
   "cell_type": "code",
   "execution_count": 8,
   "id": "bbb8b867",
   "metadata": {},
   "outputs": [],
   "source": [
    "from sklearn.model_selection import GridSearchCV\n"
   ]
  },
  {
   "cell_type": "code",
   "execution_count": 9,
   "id": "23671c6b",
   "metadata": {},
   "outputs": [
    {
     "data": {
      "text/plain": [
       "GridSearchCV(estimator=Ridge(),\n",
       "             param_grid={'alpha': [0.0001, 0.001, 0.005, 0.01, 0.05, 0.1, 1],\n",
       "                         'max_iter': [100, 400, 500, 1000],\n",
       "                         'solver': ['auto', 'svd']},\n",
       "             scoring='neg_mean_squared_error')"
      ]
     },
     "execution_count": 9,
     "metadata": {},
     "output_type": "execute_result"
    }
   ],
   "source": [
    "grid_values={'alpha':[0.0001,0.001,0.005,0.01,0.05,0.1,1],\n",
    "             'max_iter':[100,400,500,1000],'solver':['auto','svd']}\n",
    "ridge_modified_scores=GridSearchCV(ridge,param_grid=grid_values,scoring=\"neg_mean_squared_error\",verbose=0)\n",
    "ridge_modified_scores.fit(x_train,y_train)\n"
   ]
  },
  {
   "cell_type": "code",
   "execution_count": 10,
   "id": "0b2f3174",
   "metadata": {},
   "outputs": [
    {
     "data": {
      "text/plain": [
       "{'model': 'ridge',\n",
       " 'RMSE': 0.13542478542866906,\n",
       " 'R2': 0.8778289740216606,\n",
       " 'true_error': 0.09284354280922202}"
      ]
     },
     "execution_count": 10,
     "metadata": {},
     "output_type": "execute_result"
    }
   ],
   "source": [
    "y_predicted=ridge_modified_scores.predict(x_test)\n",
    "mae, mse, rmse, r_squared=evaluation(y_predicted,y_test)\n",
    "ridge_score={'model':'ridge',\n",
    "             'RMSE':rmse,\n",
    "             'R2':r_squared,\n",
    "             'true_error':mae}\n",
    "ridge_score"
   ]
  },
  {
   "cell_type": "code",
   "execution_count": 11,
   "id": "dd20f3b3",
   "metadata": {},
   "outputs": [
    {
     "name": "stdout",
     "output_type": "stream",
     "text": [
      "{'alpha': 0.1, 'max_iter': 100, 'solver': 'svd'}\n",
      "-0.01740886662049383\n"
     ]
    }
   ],
   "source": [
    "print(ridge_modified_scores.best_params_)\n",
    "print(ridge_modified_scores.best_score_)"
   ]
  },
  {
   "cell_type": "code",
   "execution_count": 12,
   "id": "3d1759d0",
   "metadata": {},
   "outputs": [
    {
     "name": "stderr",
     "output_type": "stream",
     "text": [
      "c:\\users\\sekhu\\appdata\\local\\programs\\python\\python39\\lib\\site-packages\\sklearn\\linear_model\\_coordinate_descent.py:530: ConvergenceWarning: Objective did not converge. You might want to increase the number of iterations. Duality gap: 3.845824473025409, tolerance: 0.012631920296592377\n",
      "  model = cd_fast.enet_coordinate_descent(\n",
      "c:\\users\\sekhu\\appdata\\local\\programs\\python\\python39\\lib\\site-packages\\sklearn\\linear_model\\_coordinate_descent.py:530: ConvergenceWarning: Objective did not converge. You might want to increase the number of iterations. Duality gap: 0.5069520052099268, tolerance: 0.01274798228388607\n",
      "  model = cd_fast.enet_coordinate_descent(\n",
      "c:\\users\\sekhu\\appdata\\local\\programs\\python\\python39\\lib\\site-packages\\sklearn\\linear_model\\_coordinate_descent.py:530: ConvergenceWarning: Objective did not converge. You might want to increase the number of iterations. Duality gap: 3.184575397856362, tolerance: 0.013502645983989994\n",
      "  model = cd_fast.enet_coordinate_descent(\n",
      "c:\\users\\sekhu\\appdata\\local\\programs\\python\\python39\\lib\\site-packages\\sklearn\\linear_model\\_coordinate_descent.py:530: ConvergenceWarning: Objective did not converge. You might want to increase the number of iterations. Duality gap: 3.845824473025409, tolerance: 0.012631920296592377\n",
      "  model = cd_fast.enet_coordinate_descent(\n",
      "c:\\users\\sekhu\\appdata\\local\\programs\\python\\python39\\lib\\site-packages\\sklearn\\linear_model\\_coordinate_descent.py:530: ConvergenceWarning: Objective did not converge. You might want to increase the number of iterations. Duality gap: 0.5069520052099268, tolerance: 0.01274798228388607\n",
      "  model = cd_fast.enet_coordinate_descent(\n",
      "c:\\users\\sekhu\\appdata\\local\\programs\\python\\python39\\lib\\site-packages\\sklearn\\linear_model\\_coordinate_descent.py:530: ConvergenceWarning: Objective did not converge. You might want to increase the number of iterations. Duality gap: 3.184575397856362, tolerance: 0.013502645983989994\n",
      "  model = cd_fast.enet_coordinate_descent(\n",
      "c:\\users\\sekhu\\appdata\\local\\programs\\python\\python39\\lib\\site-packages\\sklearn\\linear_model\\_coordinate_descent.py:530: ConvergenceWarning: Objective did not converge. You might want to increase the number of iterations. Duality gap: 0.06230016053112841, tolerance: 0.012631920296592377\n",
      "  model = cd_fast.enet_coordinate_descent(\n",
      "c:\\users\\sekhu\\appdata\\local\\programs\\python\\python39\\lib\\site-packages\\sklearn\\linear_model\\_coordinate_descent.py:530: ConvergenceWarning: Objective did not converge. You might want to increase the number of iterations. Duality gap: 0.06230016053112841, tolerance: 0.012631920296592377\n",
      "  model = cd_fast.enet_coordinate_descent(\n",
      "c:\\users\\sekhu\\appdata\\local\\programs\\python\\python39\\lib\\site-packages\\sklearn\\linear_model\\_coordinate_descent.py:530: ConvergenceWarning: Objective did not converge. You might want to increase the number of iterations. Duality gap: 1.328026283258164, tolerance: 0.012631920296592377\n",
      "  model = cd_fast.enet_coordinate_descent(\n",
      "c:\\users\\sekhu\\appdata\\local\\programs\\python\\python39\\lib\\site-packages\\sklearn\\linear_model\\_coordinate_descent.py:530: ConvergenceWarning: Objective did not converge. You might want to increase the number of iterations. Duality gap: 0.04514665668380502, tolerance: 0.01274798228388607\n",
      "  model = cd_fast.enet_coordinate_descent(\n",
      "c:\\users\\sekhu\\appdata\\local\\programs\\python\\python39\\lib\\site-packages\\sklearn\\linear_model\\_coordinate_descent.py:530: ConvergenceWarning: Objective did not converge. You might want to increase the number of iterations. Duality gap: 0.4679115501850113, tolerance: 0.013502645983989994\n",
      "  model = cd_fast.enet_coordinate_descent(\n",
      "c:\\users\\sekhu\\appdata\\local\\programs\\python\\python39\\lib\\site-packages\\sklearn\\linear_model\\_coordinate_descent.py:530: ConvergenceWarning: Objective did not converge. You might want to increase the number of iterations. Duality gap: 1.328026283258164, tolerance: 0.012631920296592377\n",
      "  model = cd_fast.enet_coordinate_descent(\n",
      "c:\\users\\sekhu\\appdata\\local\\programs\\python\\python39\\lib\\site-packages\\sklearn\\linear_model\\_coordinate_descent.py:530: ConvergenceWarning: Objective did not converge. You might want to increase the number of iterations. Duality gap: 0.04514665668380502, tolerance: 0.01274798228388607\n",
      "  model = cd_fast.enet_coordinate_descent(\n",
      "c:\\users\\sekhu\\appdata\\local\\programs\\python\\python39\\lib\\site-packages\\sklearn\\linear_model\\_coordinate_descent.py:530: ConvergenceWarning: Objective did not converge. You might want to increase the number of iterations. Duality gap: 0.4679115501850113, tolerance: 0.013502645983989994\n",
      "  model = cd_fast.enet_coordinate_descent(\n",
      "c:\\users\\sekhu\\appdata\\local\\programs\\python\\python39\\lib\\site-packages\\sklearn\\linear_model\\_coordinate_descent.py:530: ConvergenceWarning: Objective did not converge. You might want to increase the number of iterations. Duality gap: 0.023014743628589684, tolerance: 0.012631920296592377\n",
      "  model = cd_fast.enet_coordinate_descent(\n",
      "c:\\users\\sekhu\\appdata\\local\\programs\\python\\python39\\lib\\site-packages\\sklearn\\linear_model\\_coordinate_descent.py:530: ConvergenceWarning: Objective did not converge. You might want to increase the number of iterations. Duality gap: 0.023014743628589684, tolerance: 0.012631920296592377\n",
      "  model = cd_fast.enet_coordinate_descent(\n",
      "c:\\users\\sekhu\\appdata\\local\\programs\\python\\python39\\lib\\site-packages\\sklearn\\linear_model\\_coordinate_descent.py:530: ConvergenceWarning: Objective did not converge. You might want to increase the number of iterations. Duality gap: 0.8984307159782325, tolerance: 0.012631920296592377\n",
      "  model = cd_fast.enet_coordinate_descent(\n",
      "c:\\users\\sekhu\\appdata\\local\\programs\\python\\python39\\lib\\site-packages\\sklearn\\linear_model\\_coordinate_descent.py:530: ConvergenceWarning: Objective did not converge. You might want to increase the number of iterations. Duality gap: 0.10363703303572613, tolerance: 0.01274798228388607\n",
      "  model = cd_fast.enet_coordinate_descent(\n",
      "c:\\users\\sekhu\\appdata\\local\\programs\\python\\python39\\lib\\site-packages\\sklearn\\linear_model\\_coordinate_descent.py:530: ConvergenceWarning: Objective did not converge. You might want to increase the number of iterations. Duality gap: 0.4233107451242333, tolerance: 0.013502645983989994\n",
      "  model = cd_fast.enet_coordinate_descent(\n",
      "c:\\users\\sekhu\\appdata\\local\\programs\\python\\python39\\lib\\site-packages\\sklearn\\linear_model\\_coordinate_descent.py:530: ConvergenceWarning: Objective did not converge. You might want to increase the number of iterations. Duality gap: 0.8984307159782325, tolerance: 0.012631920296592377\n",
      "  model = cd_fast.enet_coordinate_descent(\n",
      "c:\\users\\sekhu\\appdata\\local\\programs\\python\\python39\\lib\\site-packages\\sklearn\\linear_model\\_coordinate_descent.py:530: ConvergenceWarning: Objective did not converge. You might want to increase the number of iterations. Duality gap: 0.10363703303572613, tolerance: 0.01274798228388607\n",
      "  model = cd_fast.enet_coordinate_descent(\n",
      "c:\\users\\sekhu\\appdata\\local\\programs\\python\\python39\\lib\\site-packages\\sklearn\\linear_model\\_coordinate_descent.py:530: ConvergenceWarning: Objective did not converge. You might want to increase the number of iterations. Duality gap: 0.4233107451242333, tolerance: 0.013502645983989994\n",
      "  model = cd_fast.enet_coordinate_descent(\n",
      "c:\\users\\sekhu\\appdata\\local\\programs\\python\\python39\\lib\\site-packages\\sklearn\\linear_model\\_coordinate_descent.py:530: ConvergenceWarning: Objective did not converge. You might want to increase the number of iterations. Duality gap: 0.020329020581753454, tolerance: 0.012631920296592377\n",
      "  model = cd_fast.enet_coordinate_descent(\n",
      "c:\\users\\sekhu\\appdata\\local\\programs\\python\\python39\\lib\\site-packages\\sklearn\\linear_model\\_coordinate_descent.py:530: ConvergenceWarning: Objective did not converge. You might want to increase the number of iterations. Duality gap: 0.020329020581753454, tolerance: 0.012631920296592377\n",
      "  model = cd_fast.enet_coordinate_descent(\n",
      "c:\\users\\sekhu\\appdata\\local\\programs\\python\\python39\\lib\\site-packages\\sklearn\\linear_model\\_coordinate_descent.py:530: ConvergenceWarning: Objective did not converge. You might want to increase the number of iterations. Duality gap: 0.22265741274279804, tolerance: 0.012631920296592377\n",
      "  model = cd_fast.enet_coordinate_descent(\n",
      "c:\\users\\sekhu\\appdata\\local\\programs\\python\\python39\\lib\\site-packages\\sklearn\\linear_model\\_coordinate_descent.py:530: ConvergenceWarning: Objective did not converge. You might want to increase the number of iterations. Duality gap: 0.015479336535630495, tolerance: 0.01274798228388607\n",
      "  model = cd_fast.enet_coordinate_descent(\n",
      "c:\\users\\sekhu\\appdata\\local\\programs\\python\\python39\\lib\\site-packages\\sklearn\\linear_model\\_coordinate_descent.py:530: ConvergenceWarning: Objective did not converge. You might want to increase the number of iterations. Duality gap: 0.4351459250779328, tolerance: 0.013502645983989994\n",
      "  model = cd_fast.enet_coordinate_descent(\n",
      "c:\\users\\sekhu\\appdata\\local\\programs\\python\\python39\\lib\\site-packages\\sklearn\\linear_model\\_coordinate_descent.py:530: ConvergenceWarning: Objective did not converge. You might want to increase the number of iterations. Duality gap: 0.22265741274279804, tolerance: 0.012631920296592377\n",
      "  model = cd_fast.enet_coordinate_descent(\n",
      "c:\\users\\sekhu\\appdata\\local\\programs\\python\\python39\\lib\\site-packages\\sklearn\\linear_model\\_coordinate_descent.py:530: ConvergenceWarning: Objective did not converge. You might want to increase the number of iterations. Duality gap: 0.015479336535630495, tolerance: 0.01274798228388607\n",
      "  model = cd_fast.enet_coordinate_descent(\n",
      "c:\\users\\sekhu\\appdata\\local\\programs\\python\\python39\\lib\\site-packages\\sklearn\\linear_model\\_coordinate_descent.py:530: ConvergenceWarning: Objective did not converge. You might want to increase the number of iterations. Duality gap: 0.4351459250779328, tolerance: 0.013502645983989994\n",
      "  model = cd_fast.enet_coordinate_descent(\n"
     ]
    },
    {
     "name": "stderr",
     "output_type": "stream",
     "text": [
      "c:\\users\\sekhu\\appdata\\local\\programs\\python\\python39\\lib\\site-packages\\sklearn\\linear_model\\_coordinate_descent.py:530: ConvergenceWarning: Objective did not converge. You might want to increase the number of iterations. Duality gap: 0.04263558896271391, tolerance: 0.012631920296592377\n",
      "  model = cd_fast.enet_coordinate_descent(\n",
      "c:\\users\\sekhu\\appdata\\local\\programs\\python\\python39\\lib\\site-packages\\sklearn\\linear_model\\_coordinate_descent.py:530: ConvergenceWarning: Objective did not converge. You might want to increase the number of iterations. Duality gap: 0.11122727040353197, tolerance: 0.013502645983989994\n",
      "  model = cd_fast.enet_coordinate_descent(\n",
      "c:\\users\\sekhu\\appdata\\local\\programs\\python\\python39\\lib\\site-packages\\sklearn\\linear_model\\_coordinate_descent.py:530: ConvergenceWarning: Objective did not converge. You might want to increase the number of iterations. Duality gap: 0.04263558896271391, tolerance: 0.012631920296592377\n",
      "  model = cd_fast.enet_coordinate_descent(\n",
      "c:\\users\\sekhu\\appdata\\local\\programs\\python\\python39\\lib\\site-packages\\sklearn\\linear_model\\_coordinate_descent.py:530: ConvergenceWarning: Objective did not converge. You might want to increase the number of iterations. Duality gap: 0.11122727040353197, tolerance: 0.013502645983989994\n",
      "  model = cd_fast.enet_coordinate_descent(\n",
      "c:\\users\\sekhu\\appdata\\local\\programs\\python\\python39\\lib\\site-packages\\sklearn\\linear_model\\_coordinate_descent.py:530: ConvergenceWarning: Objective did not converge. You might want to increase the number of iterations. Duality gap: 1.960917455864445, tolerance: 0.015988394595148045\n",
      "  model = cd_fast.enet_coordinate_descent(\n"
     ]
    },
    {
     "data": {
      "text/plain": [
       "{'alpha': 0.0001, 'max_iter': 100, 'warm_start': True}"
      ]
     },
     "execution_count": 12,
     "metadata": {},
     "output_type": "execute_result"
    }
   ],
   "source": [
    "# Now lets see how Lasoo regression works\n",
    "from sklearn.linear_model import Lasso\n",
    "lasso=Lasso()\n",
    "lasso_param={'alpha':[0.0001,0.0005,0.001,0.005,0.01,0.05,0.1,0.5,1],\n",
    "             'max_iter':[100,500,1000],\n",
    "             'warm_start':[True,False]}\n",
    "\n",
    "lasso_score=GridSearchCV(lasso,lasso_param,scoring=\"neg_mean_squared_error\")\n",
    "lasso_score.fit(x_train,y_train)\n",
    "lasso_score.best_params_"
   ]
  },
  {
   "cell_type": "code",
   "execution_count": 13,
   "id": "7cc48d6c",
   "metadata": {},
   "outputs": [
    {
     "data": {
      "text/plain": [
       "{'model': 'lasso',\n",
       " 'RMSE': 0.13549565909845582,\n",
       " 'R2': 0.8774412438333162,\n",
       " 'true_error': 0.09295903422085608}"
      ]
     },
     "execution_count": 13,
     "metadata": {},
     "output_type": "execute_result"
    }
   ],
   "source": [
    "y_predicted_lasso=lasso_score.predict(x_test)\n",
    "mae, mse, rmse, r_squared=evaluation(y_predicted_lasso,y_test)\n",
    "lasso_score={'model':'lasso',\n",
    "             'RMSE':rmse,\n",
    "             'R2':r_squared,\n",
    "             'true_error':mae}\n",
    "lasso_score"
   ]
  },
  {
   "cell_type": "code",
   "execution_count": 33,
   "id": "5a1b417d",
   "metadata": {},
   "outputs": [
    {
     "name": "stdout",
     "output_type": "stream",
     "text": [
      "MAE: 0.09116026540959184\n",
      "MSE: 0.016388951276522845\n",
      "RMSE: 0.12801933946292196\n",
      "R2 Score: 0.8916479644606374\n",
      "------------------------------\n",
      "RMSE Cross-Validation: 0.14152811436434795\n"
     ]
    }
   ],
   "source": [
    "from xgboost import XGBRegressor\n",
    "xgb_parameters={'learning_rate':[0.001,0.01,0.1,1],'n_estimators':[100,500,1000]}\n",
    "xgb=XGBRegressor()\n",
    "xgb_score=GridSearchCV(xgb,xgb_parameters,scoring=\"r2\")\n",
    "\n",
    "xgb_score.fit(x_train, y_train)\n",
    "predictions = xgb_score.predict(x_test)\n",
    "\n",
    "mae, mse, rmse, r_squared = evaluation(y_test, predictions)\n",
    "print(\"MAE:\", mae)\n",
    "print(\"MSE:\", mse)\n",
    "print(\"RMSE:\", rmse)\n",
    "print(\"R2 Score:\", r_squared)\n",
    "print(\"-\"*30)\n",
    "rmse_cross_val = rmse_cv(xgb)\n",
    "print(\"RMSE Cross-Validation:\", rmse_cross_val)"
   ]
  },
  {
   "cell_type": "code",
   "execution_count": 29,
   "id": "6eaa8391",
   "metadata": {},
   "outputs": [
    {
     "name": "stdout",
     "output_type": "stream",
     "text": [
      "MAE: 0.09087052132123054\n",
      "MSE: 0.01617459331349998\n",
      "RMSE: 0.12717937456010694\n",
      "R2 Score: 0.8930651461482094\n",
      "------------------------------\n",
      "RMSE Cross-Validation: 0.13148429486619842\n"
     ]
    }
   ],
   "source": [
    "xgb = XGBRegressor(n_estimators=1000, learning_rate=0.01)\n",
    "xgb.fit(x_train, y_train)\n",
    "predictions = xgb.predict(x_test)\n",
    "\n",
    "mae, mse, rmse, r_squared = evaluation(y_test, predictions)\n",
    "print(\"MAE:\", mae)\n",
    "print(\"MSE:\", mse)\n",
    "print(\"RMSE:\", rmse)\n",
    "print(\"R2 Score:\", r_squared)\n",
    "print(\"-\"*30)\n",
    "rmse_cross_val = rmse_cv(xgb)\n",
    "print(\"RMSE Cross-Validation:\", rmse_cross_val)"
   ]
  },
  {
   "cell_type": "code",
   "execution_count": 24,
   "id": "f6dc3741",
   "metadata": {},
   "outputs": [
    {
     "data": {
      "text/html": [
       "<div>\n",
       "<style scoped>\n",
       "    .dataframe tbody tr th:only-of-type {\n",
       "        vertical-align: middle;\n",
       "    }\n",
       "\n",
       "    .dataframe tbody tr th {\n",
       "        vertical-align: top;\n",
       "    }\n",
       "\n",
       "    .dataframe thead th {\n",
       "        text-align: right;\n",
       "    }\n",
       "</style>\n",
       "<table border=\"1\" class=\"dataframe\">\n",
       "  <thead>\n",
       "    <tr style=\"text-align: right;\">\n",
       "      <th></th>\n",
       "      <th>SalePrice</th>\n",
       "    </tr>\n",
       "  </thead>\n",
       "  <tbody>\n",
       "    <tr>\n",
       "      <th>1127</th>\n",
       "      <td>12.464583</td>\n",
       "    </tr>\n",
       "    <tr>\n",
       "      <th>1424</th>\n",
       "      <td>11.877569</td>\n",
       "    </tr>\n",
       "    <tr>\n",
       "      <th>587</th>\n",
       "      <td>11.827736</td>\n",
       "    </tr>\n",
       "    <tr>\n",
       "      <th>1157</th>\n",
       "      <td>12.345835</td>\n",
       "    </tr>\n",
       "    <tr>\n",
       "      <th>938</th>\n",
       "      <td>12.387556</td>\n",
       "    </tr>\n",
       "  </tbody>\n",
       "</table>\n",
       "</div>"
      ],
      "text/plain": [
       "      SalePrice\n",
       "1127  12.464583\n",
       "1424  11.877569\n",
       "587   11.827736\n",
       "1157  12.345835\n",
       "938   12.387556"
      ]
     },
     "execution_count": 24,
     "metadata": {},
     "output_type": "execute_result"
    }
   ],
   "source": [
    "y_train.head()"
   ]
  },
  {
   "cell_type": "code",
   "execution_count": null,
   "id": "5bb6f795",
   "metadata": {},
   "outputs": [],
   "source": [
    "## you can also use random forest regressor \n",
    "## for random forest regressor \n",
    "##feature_importances = grid_search.best_estimator_.feature_importances_"
   ]
  }
 ],
 "metadata": {
  "kernelspec": {
   "display_name": "Python 3 (ipykernel)",
   "language": "python",
   "name": "python3"
  },
  "language_info": {
   "codemirror_mode": {
    "name": "ipython",
    "version": 3
   },
   "file_extension": ".py",
   "mimetype": "text/x-python",
   "name": "python",
   "nbconvert_exporter": "python",
   "pygments_lexer": "ipython3",
   "version": "3.9.6"
  }
 },
 "nbformat": 4,
 "nbformat_minor": 5
}
